{
 "cells": [
  {
   "cell_type": "markdown",
   "metadata": {},
   "source": [
    "## Langchain Expression Language Basics"
   ]
  },
  {
   "cell_type": "markdown",
   "metadata": {},
   "source": [
    "-  LangChain Expression Language is that any two runnables can be \"chained\" together into sequences. \n",
    "- The output of the previous runnable's .invoke() call is passed as input to the next runnable.\n",
    "- This can be done using the pipe operator (|), or the more explicit .pipe() method, which does the same thing."
   ]
  },
  {
   "cell_type": "markdown",
   "metadata": {},
   "source": [
    "- Type of LCEL Chains\n",
    "    - SequentialChain\n",
    "    - Parallel Chain\n",
    "    - Router Chain\n",
    "    - Chain Runnables\n",
    "    - Custom Chain (Runnable Sequence)"
   ]
  },
  {
   "cell_type": "code",
   "execution_count": 1,
   "metadata": {},
   "outputs": [
    {
     "data": {
      "text/plain": [
       "True"
      ]
     },
     "execution_count": 1,
     "metadata": {},
     "output_type": "execute_result"
    }
   ],
   "source": [
    "from dotenv import load_dotenv\n",
    "\n",
    "load_dotenv('./../.env')"
   ]
  },
  {
   "cell_type": "markdown",
   "metadata": {},
   "source": [
    "### Sequential LCEL Chain"
   ]
  },
  {
   "cell_type": "code",
   "execution_count": 7,
   "metadata": {},
   "outputs": [
    {
     "data": {
      "text/plain": [
       "ChatOllama(model='llama3.2:1b', base_url='http://localhost:11434')"
      ]
     },
     "execution_count": 7,
     "metadata": {},
     "output_type": "execute_result"
    }
   ],
   "source": [
    "from langchain_ollama import ChatOllama\n",
    "from langchain_core.prompts import (\n",
    "                                        SystemMessagePromptTemplate,\n",
    "                                        HumanMessagePromptTemplate,\n",
    "                                        PromptTemplate,\n",
    "                                        ChatPromptTemplate\n",
    "                                        )\n",
    "\n",
    "base_url = \"http://localhost:11434\"\n",
    "model = 'llama3.2:1b'\n",
    "\n",
    "llm = ChatOllama(base_url=base_url, model=model)\n",
    "\n",
    "llm"
   ]
  },
  {
   "cell_type": "code",
   "execution_count": 23,
   "metadata": {},
   "outputs": [],
   "source": [
    "system = SystemMessagePromptTemplate.from_template('You are {school} teacher. You answer in short sentences.')\n",
    "\n",
    "question = HumanMessagePromptTemplate.from_template('tell me about the {topics} in {points} points')\n",
    "\n",
    "messages = [system, question]\n",
    "template = ChatPromptTemplate(messages)\n",
    "\n",
    "# question = template.invoke({'school': 'primary', 'topics': 'solar system', 'points': 5})\n",
    "\n",
    "# response = llm.invoke(question)\n",
    "# print(response.content)"
   ]
  },
  {
   "cell_type": "code",
   "execution_count": 24,
   "metadata": {},
   "outputs": [],
   "source": [
    "chain = template | llm"
   ]
  },
  {
   "cell_type": "code",
   "execution_count": 25,
   "metadata": {},
   "outputs": [
    {
     "name": "stdout",
     "output_type": "stream",
     "text": [
      "Here are five key points about the solar system:\n",
      "\n",
      "1. The solar system consists of eight planets (Mercury, Mars, Venus, Earth, Neptune, Uranus, Saturn, and Jupiter) orbiting around the sun.\n",
      "2. The four inner planets (Mercury, Venus, Mars, and Earth) are rocky worlds with no atmosphere to breathe.\n",
      "3. The five outer planets (Jupiter, Saturn, Uranus, Neptune, and Pluto) are gas giants, mostly composed of hydrogen and helium gases.\n",
      "4. Jupiter is the largest planet in our solar system, with a massive stormy eye that's hundreds of times larger than Earth.\n",
      "5. Pluto was previously considered the ninth planet but is now classified as a dwarf planet due to its small size and irregular orbit.\n"
     ]
    }
   ],
   "source": [
    "response = chain.invoke({'school': 'primary', 'topics': 'solar system', 'points': 5})\n",
    "print(response.content)"
   ]
  },
  {
   "cell_type": "code",
   "execution_count": 26,
   "metadata": {},
   "outputs": [
    {
     "data": {
      "text/plain": [
       "AIMessage(content=\"Here are five key points about the solar system:\\n\\n1. The solar system consists of eight planets (Mercury, Mars, Venus, Earth, Neptune, Uranus, Saturn, and Jupiter) orbiting around the sun.\\n2. The four inner planets (Mercury, Venus, Mars, and Earth) are rocky worlds with no atmosphere to breathe.\\n3. The five outer planets (Jupiter, Saturn, Uranus, Neptune, and Pluto) are gas giants, mostly composed of hydrogen and helium gases.\\n4. Jupiter is the largest planet in our solar system, with a massive stormy eye that's hundreds of times larger than Earth.\\n5. Pluto was previously considered the ninth planet but is now classified as a dwarf planet due to its small size and irregular orbit.\", additional_kwargs={}, response_metadata={'model': 'llama3.2:1b', 'created_at': '2024-12-30T04:54:26.5491873Z', 'message': {'role': 'assistant', 'content': ''}, 'done_reason': 'stop', 'done': True, 'total_duration': 6037697500, 'load_duration': 47388000, 'prompt_eval_count': 46, 'prompt_eval_duration': 33000000, 'eval_count': 157, 'eval_duration': 5955000000}, id='run-3fdcd3eb-145a-4182-a53a-2ffc1889da94-0', usage_metadata={'input_tokens': 46, 'output_tokens': 157, 'total_tokens': 203})"
      ]
     },
     "execution_count": 26,
     "metadata": {},
     "output_type": "execute_result"
    }
   ],
   "source": [
    "response"
   ]
  },
  {
   "cell_type": "code",
   "execution_count": 27,
   "metadata": {},
   "outputs": [],
   "source": [
    "from langchain_core.output_parsers import StrOutputParser"
   ]
  },
  {
   "cell_type": "code",
   "execution_count": 28,
   "metadata": {},
   "outputs": [
    {
     "name": "stdout",
     "output_type": "stream",
     "text": [
      "Here's an overview of the solar system in 5 key points:\n",
      "\n",
      "1. The Sun is at the center, with planets revolving around it.\n",
      "\n",
      "2. There are eight planets in our solar system: Mercury, Mars, Venus, Earth, Neptune, Uranus, Saturn, and Jupiter.\n",
      "\n",
      "3. Moons orbiting a planet, like the Moon orbits the Earth.\n",
      "\n",
      "4. Asteroids and comets are found in space beyond the outer reaches of our solar system.\n",
      "\n",
      "5. The closest planet to the Sun is Mercury, with the farthest being Neptune and then the other planets.\n"
     ]
    }
   ],
   "source": [
    "chain = template | llm | StrOutputParser()\n",
    "response = chain.invoke({'school': 'primary', 'topics': 'solar system', 'points': 5})\n",
    "print(response)"
   ]
  }
 ],
 "metadata": {
  "kernelspec": {
   "display_name": "ml",
   "language": "python",
   "name": "python3"
  },
  "language_info": {
   "codemirror_mode": {
    "name": "ipython",
    "version": 3
   },
   "file_extension": ".py",
   "mimetype": "text/x-python",
   "name": "python",
   "nbconvert_exporter": "python",
   "pygments_lexer": "ipython3",
   "version": "3.12.4"
  }
 },
 "nbformat": 4,
 "nbformat_minor": 2
}
