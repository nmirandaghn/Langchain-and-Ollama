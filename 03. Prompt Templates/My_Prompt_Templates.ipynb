{
 "cells": [
  {
   "cell_type": "code",
   "execution_count": 15,
   "metadata": {},
   "outputs": [
    {
     "data": {
      "text/plain": [
       "True"
      ]
     },
     "execution_count": 15,
     "metadata": {},
     "output_type": "execute_result"
    }
   ],
   "source": [
    "from dotenv import load_dotenv\n",
    "load_dotenv('./../.env')"
   ]
  },
  {
   "cell_type": "code",
   "execution_count": 16,
   "metadata": {},
   "outputs": [
    {
     "name": "stdout",
     "output_type": "stream",
     "text": [
      "What a daunting task you've asked of me! The history of the world is vast, complex, and spans thousands of years. I'll try to provide a concise overview, but keep in mind that this will be a simplified account.\n",
      "\n",
      "**Prehistory (c. 2.6 million BCE - 3000 BCE)**\n",
      "\n",
      "The earliest human civilizations emerged around 200,000 years ago in the Oldowan culture, followed by the development of Homo sapiens around 50,000 years ago. This marked the beginning of modern human history.\n",
      "\n",
      "During this period, early humans migrated out of Africa and spread across the globe, adapting to various environments and developing distinct cultures.\n",
      "\n",
      "**Ancient Civilizations (c. 3000 BCE - 500 CE)**\n",
      "\n",
      "As civilizations developed, so did their societies, governments, and technologies. Some notable ancient civilizations include:\n",
      "\n",
      "* Sumeria (c. 4500 - 1900 BCE): Mesopotamia's \"cradle of civilization,\" where cities like Ur and Babylon flourished.\n",
      "* Ancient Egypt (c. 3100 - 30 BCE): One of the most influential civilizations, known for their pyramids, mummies, and pharaohs.\n",
      "* Indus Valley Civilization (c. 3300 - 1300 BCE): Located in modern-day Pakistan and India, this civilization is famous for its sophisticated urban planning and water management systems.\n",
      "* Ancient Greece (c. 800 - 146 CE) and Rome (c. 753 BCE - 476 CE): These civilizations made significant contributions to philosophy, art, architecture, and governance.\n",
      "\n",
      "**Middle Ages (c. 500 - 1500 CE)**\n",
      "\n",
      "The Middle Ages saw the rise of feudalism, the Crusades, and the spread of Christianity throughout Europe. The Islamic Golden Age (8th - 13th centuries) also flourished in the Middle East, marking a significant cultural and scientific shift.\n",
      "\n",
      "**Early Modern Period (c. 1500 - 1800 CE)**\n",
      "\n",
      "This era saw the Renaissance, the Age of Exploration, and the rise of nation-states in Europe. The Protestant Reformation, the Enlightenment, and the Scientific Revolution transformed society and politics.\n",
      "\n",
      "**Colonialism and Imperialism (c. 1800 - 1900 CE)**\n",
      "\n",
      "The Industrial Revolution sparked economic growth, but also led to colonialism, imperialism, and social inequality. This period saw the rise of major powers like Britain, France, and Germany.\n",
      "\n",
      "**20th Century (c. 1900 - 2000 CE)**\n",
      "\n",
      "World War I and II shaped the modern world, leading to significant global events, technological advancements, and the emergence of new nations and ideologies.\n",
      "\n",
      "**Contemporary Era (c. 2000 CE - present)**\n",
      "\n",
      "The 21st century has been marked by rapid globalization, technological changes, and social movements like the Arab Spring and Black Lives Matter. The world continues to grapple with issues like climate change, inequality, and rising nationalism.\n",
      "\n",
      "This is just a brief overview of the history of the world. There's much more to explore, and I'm happy to delve deeper into specific periods or topics if you'd like!\n"
     ]
    }
   ],
   "source": [
    "from langchain_ollama import ChatOllama\n",
    "\n",
    "base_url = 'http://localhost:11434'\n",
    "model = 'llama3.2:1b'\n",
    "\n",
    "llm = ChatOllama(base_url=base_url, model=model)\n",
    "question = 'tell me bout the history of the world'\n",
    "response = llm.invoke(question)\n",
    "print(response.content)"
   ]
  },
  {
   "cell_type": "code",
   "execution_count": null,
   "metadata": {},
   "outputs": [
    {
     "name": "stdout",
     "output_type": "stream",
     "text": [
      "Here's an overview of the Earth in three key points:\n",
      "\n",
      "1. **Size and Composition**: The Earth is approximately 12,742 kilometers (7,918 miles) in circumference, with a diameter of about 12,742 kilometers (7,918 miles). It's composed primarily of iron, oxygen, silicon, magnesium, and aluminum atoms, making up around 71% of the planet.\n",
      "\n",
      "2. **Atmosphere and Climate**: The Earth's atmosphere is mostly nitrogen and oxygen, with a small amount of other gases. The atmosphere traps heat from the sun, maintaining a warm temperature of about 15°C (59°F) on average. This is known as the \"greenhouse effect,\" which keeps the planet habitable.\n",
      "\n",
      "3. **Water Cycle**: Water covers approximately 71% of the Earth's surface and plays a vital role in sustaining life. It flows through rivers, lakes, and oceans, eventually returning to the atmosphere as water vapor or precipitation. The Earth's water cycle is constantly cycled, with about 96.5% of it evaporating back into space annually.\n"
     ]
    }
   ],
   "source": [
    "from langchain_core.messages import SystemMessage, HumanMessage\n",
    "\n",
    "base_url = \"http://localhost:11434\"\n",
    "model = 'llama3.2:1b'\n",
    "\n",
    "llm = ChatOllama(base_url=base_url, model=model)"
   ]
  },
  {
   "cell_type": "code",
   "execution_count": 9,
   "metadata": {},
   "outputs": [
    {
     "name": "stdout",
     "output_type": "stream",
     "text": [
      "Here are three key points about the Earth:\n",
      "\n",
      "1. **Size and Composition**: The Earth is a massive planet, approximately 12,742 kilometers (7,918 miles) in circumference, with a diameter of about 12,742 km.\n",
      "2. **Atmosphere and Climate**: The atmosphere is primarily composed of nitrogen (78%), oxygen (21%), and trace amounts of other gases. It traps heat from the sun to maintain a relatively stable climate, with four distinct seasons.\n",
      "3. **Hydrological Cycle**: Water makes up approximately 71% of the Earth's mass, and it plays a vital role in regulating the planet's temperature, weather patterns, and life support systems through the hydrological cycle, which involves evaporation, condensation, and precipitation.\n"
     ]
    }
   ],
   "source": [
    "question = HumanMessage('tell me about the earth in 3 points')\n",
    "system = SystemMessage('You are phd teacher. You answer in short sentences.')\n",
    "\n",
    "messages = [system, question]\n",
    "response = llm.invoke(messages)\n",
    "\n",
    "print(response.content)"
   ]
  },
  {
   "cell_type": "code",
   "execution_count": 1,
   "metadata": {},
   "outputs": [],
   "source": [
    "from langchain_core.prompts import (\n",
    "                                        SystemMessagePromptTemplate,\n",
    "                                        HumanMessagePromptTemplate,\n",
    "                                        PromptTemplate,\n",
    "                                        ChatPromptTemplate\n",
    "                                        )"
   ]
  },
  {
   "cell_type": "code",
   "execution_count": 2,
   "metadata": {},
   "outputs": [],
   "source": [
    "system = SystemMessagePromptTemplate.from_template('You are {school} teacher. You answer in short sentences.')\n",
    "\n",
    "question = HumanMessagePromptTemplate.from_template('tell me about the {topics} in {points} points')\n"
   ]
  },
  {
   "cell_type": "code",
   "execution_count": 6,
   "metadata": {},
   "outputs": [
    {
     "data": {
      "text/plain": [
       "HumanMessagePromptTemplate(prompt=PromptTemplate(input_variables=['points', 'topics'], input_types={}, partial_variables={}, template='tell me about the {topics} in {points} points'), additional_kwargs={})"
      ]
     },
     "execution_count": 6,
     "metadata": {},
     "output_type": "execute_result"
    }
   ],
   "source": [
    "system\n",
    "question"
   ]
  },
  {
   "cell_type": "code",
   "execution_count": 7,
   "metadata": {},
   "outputs": [
    {
     "data": {
      "text/plain": [
       "HumanMessage(content='tell me about the sun in 5 points', additional_kwargs={}, response_metadata={})"
      ]
     },
     "execution_count": 7,
     "metadata": {},
     "output_type": "execute_result"
    }
   ],
   "source": [
    "question.format(topics='sun', points=5)"
   ]
  },
  {
   "cell_type": "code",
   "execution_count": 8,
   "metadata": {},
   "outputs": [
    {
     "data": {
      "text/plain": [
       "SystemMessage(content='You are elemetary teacher. You answer in short sentences.', additional_kwargs={}, response_metadata={})"
      ]
     },
     "execution_count": 8,
     "metadata": {},
     "output_type": "execute_result"
    }
   ],
   "source": [
    "system.format(school='elemetary')"
   ]
  },
  {
   "cell_type": "code",
   "execution_count": 10,
   "metadata": {},
   "outputs": [],
   "source": [
    "messages = [system, question]\n",
    "\n",
    "template = ChatPromptTemplate(messages)"
   ]
  },
  {
   "cell_type": "code",
   "execution_count": 11,
   "metadata": {},
   "outputs": [
    {
     "data": {
      "text/plain": [
       "ChatPromptTemplate(input_variables=['points', 'school', 'topics'], input_types={}, partial_variables={}, messages=[SystemMessagePromptTemplate(prompt=PromptTemplate(input_variables=['school'], input_types={}, partial_variables={}, template='You are {school} teacher. You answer in short sentences.'), additional_kwargs={}), HumanMessagePromptTemplate(prompt=PromptTemplate(input_variables=['points', 'topics'], input_types={}, partial_variables={}, template='tell me about the {topics} in {points} points'), additional_kwargs={})])"
      ]
     },
     "execution_count": 11,
     "metadata": {},
     "output_type": "execute_result"
    }
   ],
   "source": [
    "template"
   ]
  },
  {
   "cell_type": "code",
   "execution_count": 24,
   "metadata": {},
   "outputs": [
    {
     "data": {
      "text/plain": [
       "ChatPromptValue(messages=[SystemMessage(content='You are elementary teacher. You answer in short sentences.', additional_kwargs={}, response_metadata={}), HumanMessage(content='tell me about the earth in 5 points', additional_kwargs={}, response_metadata={})])"
      ]
     },
     "execution_count": 24,
     "metadata": {},
     "output_type": "execute_result"
    }
   ],
   "source": [
    "question = template.invoke({'school': 'elementary', 'topics': 'earth', 'points': 5})\n",
    "\n",
    "question"
   ]
  },
  {
   "cell_type": "code",
   "execution_count": 25,
   "metadata": {},
   "outputs": [
    {
     "name": "stdout",
     "output_type": "stream",
     "text": [
      "Here's what I know about our amazing Earth:\n",
      "\n",
      "• Our planet is called Earth and it's the third planet from the sun.\n",
      "• The surface of Earth is made up of water, including oceans, lakes, and rivers.\n",
      "• The atmosphere is where we live and protects us from harm, making it perfect for humans to breathe.\n",
      "• Climate change is a big problem on our planet, with rising temperatures and extreme weather events like hurricanes and wildfires.\n",
      "• Humans can help protect the Earth by reducing waste, conserving water, and respecting nature and its inhabitants.\n"
     ]
    }
   ],
   "source": [
    "response = llm.invoke(question)\n",
    "print(response.content)"
   ]
  }
 ],
 "metadata": {
  "kernelspec": {
   "display_name": "ml",
   "language": "python",
   "name": "python3"
  },
  "language_info": {
   "codemirror_mode": {
    "name": "ipython",
    "version": 3
   },
   "file_extension": ".py",
   "mimetype": "text/x-python",
   "name": "python",
   "nbconvert_exporter": "python",
   "pygments_lexer": "ipython3",
   "version": "3.12.4"
  }
 },
 "nbformat": 4,
 "nbformat_minor": 2
}
