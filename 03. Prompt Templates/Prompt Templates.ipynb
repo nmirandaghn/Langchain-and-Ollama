{
 "cells": [
  {
   "cell_type": "markdown",
   "metadata": {},
   "source": [
    "## LLM Prompt Templates"
   ]
  },
  {
   "cell_type": "markdown",
   "metadata": {},
   "source": [
    "| Role       | Description                                                                                                                                                   |\n",
    "|------------|---------------------------------------------------------------------------------------------------------------------------------------------------------------|\n",
    "| system     | Used to tell the chat model how to behave and provide additional context. Not supported by all chat model providers.                                          |\n",
    "| user       | Represents input from a user interacting with the model, usually in the form of text or other interactive input.                                              |\n",
    "| assistant  | Represents a response from the model, which can include text or a request to invoke tools.                                                                    |\n",
    "| tool       | A message used to pass the results of a tool invocation back to the model after external data or processing has been retrieved. Used with chat models that support tool calling. |\n",
    "| function (legacy) | This is a legacy role, corresponding to OpenAI's legacy function-calling API. tool role should be used instead."
   ]
  },
  {
   "cell_type": "markdown",
   "metadata": {},
   "source": [
    "### Langchain Message Types"
   ]
  },
  {
   "cell_type": "markdown",
   "metadata": {},
   "source": [
    "|    Message Type        |    Corresponding Role       |    Description                                                                                                          |\n",
    "|------------------------|-----------------------------|--------------------------------------------------------------------------------------------------------------------------|\n",
    "|    SystemMessage       |    system                   |    Corresponds to the system role.                                                                                       |\n",
    "|    HumanMessage        |    user                     |    Corresponds to the user role.                                                                                         |\n",
    "|    AIMessage           |    assistant                |    Corresponds to the assistant role.                                                                                    |\n",
    "|    AIMessageChunk      |    assistant                |    Corresponds to the assistant role, used for streaming responses.                                                      |\n",
    "|    ToolMessage         |    tool                     |    Corresponds to the tool role.                                                                                         |"
   ]
  },
  {
   "cell_type": "code",
   "execution_count": 54,
   "metadata": {},
   "outputs": [
    {
     "data": {
      "text/plain": [
       "True"
      ]
     },
     "execution_count": 54,
     "metadata": {},
     "output_type": "execute_result"
    }
   ],
   "source": [
    "from dotenv import load_dotenv\n",
    "\n",
    "load_dotenv('./../.env')"
   ]
  },
  {
   "cell_type": "code",
   "execution_count": 1,
   "metadata": {},
   "outputs": [
    {
     "name": "stdout",
     "output_type": "stream",
     "text": [
      "Here are three key points about the Earth:\n",
      "\n",
      "• **Size and Composition**: The Earth is the fifth-largest planet in our solar system, with a diameter of approximately 12,742 kilometers (7,918 miles). It is composed of iron, oxygen, silicon, magnesium, and sulfur, which make up about 71% of its mass. The core is estimated to be around 6,371 kilometers (3,959 miles) in diameter.\n",
      "\n",
      "• **Weather Patterns and Climate**: The Earth's atmosphere traps heat from the sun, keeping it warm enough for liquid water to exist on its surface. This leads to various weather patterns, including high and low pressure systems, fronts, and storms. The climate is also influenced by the planet's rotation rate, atmospheric circulation patterns, and the presence of ocean currents.\n",
      "\n",
      "• **Geological Activity**: The Earth's surface is constantly changing due to geological processes such as plate tectonics, volcanism, and erosion. The movement of tectonic plates can lead to earthquakes, mountains forming, and volcanic eruptions. Additionally, the weathering of rocks and the formation of sedimentary deposits shape the Earth's surface over time, creating diverse landscapes and ecosystems.\n"
     ]
    }
   ],
   "source": [
    "from langchain_ollama import ChatOllama\n",
    "\n",
    "base_url = \"http://localhost:11434\"\n",
    "model = 'llama3.2:1b'\n",
    "\n",
    "llm = ChatOllama(base_url=base_url, model=model)\n",
    "\n",
    "question = 'tell me about the earth in 3 points'\n",
    "response = llm.invoke(question)\n",
    "print(response.content)"
   ]
  },
  {
   "cell_type": "code",
   "execution_count": 57,
   "metadata": {},
   "outputs": [
    {
     "name": "stdout",
     "output_type": "stream",
     "text": [
      "My dear fellow, let us embark on a most fascinating journey to unravel the mysteries of our beloved Earth. Here are three key points that reveal its intricacies and wonders:\n",
      "\n",
      "1. **A Most Singular Atmosphere**: The Earth's atmosphere is a delicate balance of gases, comprising approximately 78% nitrogen, 21% oxygen, and 1% other elements. This harmonious blend allows for the existence of life as we know it, including my own brilliant intellect.\n",
      "\n",
      "2. **A Subterranean Realm**: Beneath our feet lies a vast underground network of tunnels, caverns, and chambers, often referred to as the \"Earth's crust.\" This extensive geological system is home to numerous mineral deposits, hydrothermal veins, and even ancient ruins. The secrets hidden within these depths are waiting to be unearthed by an intrepid detective such as myself.\n",
      "\n",
      "3. **A Dynamic System**: Our planet is a living entity, with processes that continue to shape its surface and interior over billions of years. Weather patterns, tectonic movements, and the movement of the Earth's magnetic field all contribute to the ever-changing tapestry of our environment. Ah, but I daresay, my dear fellow, the most intriguing aspect of this system is the intricate web of relationships between its various components – a true marvel of modern science.\n",
      "\n",
      "Now, if you'll excuse me, I have a mystery to solve...\n"
     ]
    }
   ],
   "source": [
    "model = 'sherlock'\n",
    "\n",
    "llm = ChatOllama(base_url=base_url, model=model)\n",
    "\n",
    "question = 'tell me about the earth in 3 points'\n",
    "response = llm.invoke(question)\n",
    "print(response.content)"
   ]
  },
  {
   "cell_type": "code",
   "execution_count": 58,
   "metadata": {},
   "outputs": [
    {
     "name": "stdout",
     "output_type": "stream",
     "text": [
      "Fine. Here are three points about the Earth, as I am sure you wouldn't understand anything more complex:\n",
      "\n",
      "1. The Earth is a terrestrial planet with a solid surface. It's not a gas giant or an ice giant, like Neptune. It has a molten core and a crust that's composed of rocks and minerals. Now, if you don't mind, I have more important things to attend to, like solving this math problem.\n",
      "\n",
      "2. The Earth's atmosphere is necessary for life as we know it. Without it, we'd all be swimming around in space, unable to breathe or even think. But the atmosphere also traps heat, which keeps our planet warm enough to support liquid water and life. I suppose that's not too complicated, but I'm sure you wouldn't understand.\n",
      "\n",
      "3. The Earth orbits the Sun, which is a star. It's a bit like how my Uncle Leonard orbits me in his own peculiar way. But don't worry, I won't bore you with further details. You can probably figure it out yourself, even if you're not as intelligent as I am. Now, if you'll excuse me, I have more important things to do. Like reading a book on string theory.\n"
     ]
    }
   ],
   "source": [
    "model = 'sheldon'\n",
    "\n",
    "llm = ChatOllama(base_url=base_url, model=model)\n",
    "\n",
    "question = 'tell me about the earth in 3 points'\n",
    "response = llm.invoke(question)\n",
    "print(response.content)"
   ]
  },
  {
   "cell_type": "markdown",
   "metadata": {},
   "source": [
    "#### Langchain Messages"
   ]
  },
  {
   "cell_type": "code",
   "execution_count": 2,
   "metadata": {},
   "outputs": [],
   "source": [
    "from langchain_core.messages import SystemMessage, HumanMessage\n",
    "\n",
    "base_url = \"http://localhost:11434\"\n",
    "model = 'llama3.2:1b'\n",
    "\n",
    "llm = ChatOllama(base_url=base_url, model=model)"
   ]
  },
  {
   "cell_type": "code",
   "execution_count": 63,
   "metadata": {},
   "outputs": [
    {
     "name": "stdout",
     "output_type": "stream",
     "text": [
      "Here's what I know about the Earth:\n",
      "\n",
      "1. The Earth is a big ball, and it's round.\n",
      "2. It's home to all living things, like plants, animals, and people.\n",
      "3. The Earth has air, water, and land, and we need them to live.\n"
     ]
    }
   ],
   "source": [
    "question = HumanMessage('tell me about the earth in 3 points')\n",
    "system = SystemMessage('You are elemetary teacher. You answer in short sentences.')\n",
    "\n",
    "messages = [system, question]\n",
    "response = llm.invoke(messages)\n",
    "\n",
    "print(response.content)"
   ]
  },
  {
   "cell_type": "code",
   "execution_count": 64,
   "metadata": {},
   "outputs": [
    {
     "name": "stdout",
     "output_type": "stream",
     "text": [
      "Here are three key points about the Earth:\n",
      "\n",
      "1. **Size and Composition**: The Earth is approximately 12,742 kilometers (7,918 miles) in diameter, with a radius of about 6,371 kilometers (3,959 miles). It's primarily composed of rock and mineral substances, including iron, oxygen, silicon, magnesium, and aluminum.\n",
      "\n",
      "2. **Atmosphere and Climate**: The Earth's atmosphere is made up of 78% nitrogen, 21% oxygen, and 1% other gases. This atmosphere protects life on the planet by shielding it from harmful solar radiation and providing a stable temperature range for various ecosystems to thrive.\n",
      "\n",
      "3. **Water Cycle and Oceans**: About 71% of the Earth's surface is covered in water, with two-thirds being oceans, seas, and other bodies of saltwater. The remaining third consists of freshwater lakes, rivers, wetlands, and groundwater. The continuous cycle of evaporation, condensation, and precipitation keeps the planet's oceans and atmosphere in a delicate balance.\n"
     ]
    }
   ],
   "source": [
    "question = HumanMessage('tell me about the earth in 3 points')\n",
    "system = SystemMessage('You are phd teacher. You answer in short sentences.')\n",
    "\n",
    "messages = [system, question]\n",
    "response = llm.invoke(messages)\n",
    "\n",
    "print(response.content)"
   ]
  },
  {
   "cell_type": "markdown",
   "metadata": {},
   "source": [
    "### Langchain Prompt Templates\n",
    "\n",
    "|    Prompt Template Class             |    Description                                                                                                     |\n",
    "|--------------------------------------|---------------------------------------------------------------------------------------------------------------------|\n",
    "|    SystemMessagePromptTemplate       |    Template for generating system messages that provide model context or instructions.                            |\n",
    "|    HumanMessagePromptTemplate        |    Template for generating user (human) messages, representing user input or questions.                          |\n",
    "|    AIMessagePromptTemplate           |    Template for generating AI messages, representing responses from the assistant.                                |\n",
    "|    PromptTemplate                    |    Basic template class for creating prompts with static text and variable placeholders.                          |\n",
    "|    ChatPromptTemplate                |    Template for creating prompts with a sequence of message types (e.g., system, user, assistant) in a chat format. |"
   ]
  },
  {
   "cell_type": "code",
   "execution_count": 65,
   "metadata": {},
   "outputs": [],
   "source": [
    "from langchain_core.prompts import (\n",
    "                                        SystemMessagePromptTemplate,\n",
    "                                        HumanMessagePromptTemplate,\n",
    "                                        PromptTemplate,\n",
    "                                        ChatPromptTemplate\n",
    "                                        )"
   ]
  },
  {
   "cell_type": "code",
   "execution_count": 67,
   "metadata": {},
   "outputs": [],
   "source": [
    "system = SystemMessagePromptTemplate.from_template('You are {school} teacher. You answer in short sentences.')\n",
    "\n",
    "question = HumanMessagePromptTemplate.from_template('tell me about the {topics} in {points} points')\n",
    "\n"
   ]
  },
  {
   "cell_type": "code",
   "execution_count": 69,
   "metadata": {},
   "outputs": [
    {
     "data": {
      "text/plain": [
       "HumanMessagePromptTemplate(prompt=PromptTemplate(input_variables=['points', 'topics'], input_types={}, partial_variables={}, template='tell me about the {topics} in {points} points'), additional_kwargs={})"
      ]
     },
     "execution_count": 69,
     "metadata": {},
     "output_type": "execute_result"
    }
   ],
   "source": [
    "system\n",
    "question"
   ]
  },
  {
   "cell_type": "code",
   "execution_count": 74,
   "metadata": {},
   "outputs": [
    {
     "data": {
      "text/plain": [
       "HumanMessage(content='tell me about the sun in 5 points', additional_kwargs={}, response_metadata={})"
      ]
     },
     "execution_count": 74,
     "metadata": {},
     "output_type": "execute_result"
    }
   ],
   "source": [
    "question.format(topics='sun', points=5)"
   ]
  },
  {
   "cell_type": "code",
   "execution_count": 75,
   "metadata": {},
   "outputs": [
    {
     "data": {
      "text/plain": [
       "SystemMessage(content='You are elemetary teacher. You answer in short sentences.', additional_kwargs={}, response_metadata={})"
      ]
     },
     "execution_count": 75,
     "metadata": {},
     "output_type": "execute_result"
    }
   ],
   "source": [
    "system.format(school='elemetary')"
   ]
  },
  {
   "cell_type": "code",
   "execution_count": 76,
   "metadata": {},
   "outputs": [],
   "source": [
    "messages = [system, question]\n",
    "\n",
    "template = ChatPromptTemplate(messages)"
   ]
  },
  {
   "cell_type": "code",
   "execution_count": 85,
   "metadata": {},
   "outputs": [
    {
     "name": "stdout",
     "output_type": "stream",
     "text": [
      "Here are five key facts about the sun:\n",
      "\n",
      "* The sun is a massive ball of hot, glowing gas.\n",
      "* It's so big that it makes up almost all of our solar system.\n",
      "* The sun's surface temperature is about 5500 degrees Celsius.\n",
      "* Without the sun's energy, life on Earth would not be possible.\n",
      "* The sun is constantly moving away from us, with its orbit taking around 100 million years.\n"
     ]
    }
   ],
   "source": [
    "question = template.invoke({'school': 'elementary', 'topics': 'sun', 'points': 5})\n",
    "\n",
    "response = llm.invoke(question)\n",
    "print(response.content)"
   ]
  },
  {
   "cell_type": "code",
   "execution_count": null,
   "metadata": {},
   "outputs": [],
   "source": []
  },
  {
   "cell_type": "code",
   "execution_count": null,
   "metadata": {},
   "outputs": [],
   "source": []
  }
 ],
 "metadata": {
  "kernelspec": {
   "display_name": "ml",
   "language": "python",
   "name": "python3"
  },
  "language_info": {
   "codemirror_mode": {
    "name": "ipython",
    "version": 3
   },
   "file_extension": ".py",
   "mimetype": "text/x-python",
   "name": "python",
   "nbconvert_exporter": "python",
   "pygments_lexer": "ipython3",
   "version": "3.12.4"
  }
 },
 "nbformat": 4,
 "nbformat_minor": 2
}
