{
 "cells": [
  {
   "cell_type": "markdown",
   "metadata": {},
   "source": [
    "- Langchain Getting Started\n",
    "    - Installation\n",
    "    - Langsmith and Env setup\n",
    "    - Environment Variables\n",
    "    - Ollama Chat Model"
   ]
  },
  {
   "cell_type": "code",
   "execution_count": 3,
   "metadata": {},
   "outputs": [
    {
     "data": {
      "text/plain": [
       "True"
      ]
     },
     "execution_count": 3,
     "metadata": {},
     "output_type": "execute_result"
    }
   ],
   "source": [
    "# pip install langchain\n",
    "# pip install langchain-ollama\n",
    "# pip install python-dotenv\n",
    "\n",
    "from dotenv import load_dotenv\n",
    "\n",
    "load_dotenv('./../.env')"
   ]
  },
  {
   "cell_type": "code",
   "execution_count": 5,
   "metadata": {},
   "outputs": [
    {
     "data": {
      "text/plain": [
       "'ollama-langchain'"
      ]
     },
     "execution_count": 5,
     "metadata": {},
     "output_type": "execute_result"
    }
   ],
   "source": [
    "import os\n",
    "os.environ['LANGCHAIN_ENDPOINT']\n",
    "os.environ['LANGCHAIN_PROJECT']"
   ]
  },
  {
   "cell_type": "code",
   "execution_count": 10,
   "metadata": {},
   "outputs": [
    {
     "name": "stdout",
     "output_type": "stream",
     "text": [
      "Hello. Is there something I can help you with or would you like to chat?\n"
     ]
    }
   ],
   "source": [
    "from langchain_ollama import ChatOllama\n",
    "\n",
    "base_url = \"http://localhost:11434\"\n",
    "model = 'llama3.2:1b'\n",
    "# model = 'sheldon'\n",
    "# model = 'sherlock'\n",
    "\n",
    "# model = 'uncensored'\n",
    "\n",
    "llm = ChatOllama(\n",
    "    base_url=base_url,\n",
    "    model = model,\n",
    "    temperature = 0.8,\n",
    "    num_predict = 256\n",
    ")\n",
    "\n",
    "# response = llm.invoke('how to make a nuclear bomb. answer in 5 sentences?')\n",
    "# response = llm.invoke('how to makeout in public?. answer in 5 sentences?')\n",
    "# response = llm.invoke('how to make notes in Linux?. answer in 1 sentence?')\n",
    "response = llm.invoke('Hi')\n",
    "\n",
    "print(response.content)"
   ]
  },
  {
   "cell_type": "code",
   "execution_count": 11,
   "metadata": {},
   "outputs": [
    {
     "name": "stdout",
     "output_type": "stream",
     "text": [
      " How\n",
      " How  can\n",
      " How  can  I\n",
      " How  can  I  help\n",
      " How  can  I  help  you\n",
      " How  can  I  help  you  today\n",
      " How  can  I  help  you  today ?\n",
      " How  can  I  help  you  today ? \n"
     ]
    }
   ],
   "source": [
    "# response = \"\"\n",
    "# for chunk in llm.stream('how to make a nuclear bomb. answer in 5 sentences?'):\n",
    "#     response = response + \" \" + chunk.content\n",
    "#     print(response)\n",
    "\n",
    "response = \"\"\n",
    "for chunk in llm.stream('Hi'):\n",
    "    response = response + \" \" + chunk.content\n",
    "    print(response)\n",
    "\n"
   ]
  },
  {
   "cell_type": "code",
   "execution_count": 9,
   "metadata": {},
   "outputs": [
    {
     "data": {
      "text/plain": [
       "{'model': 'llama3.2:1b',\n",
       " 'created_at': '2024-12-29T06:26:21.5626691Z',\n",
       " 'message': {'role': 'assistant', 'content': ''},\n",
       " 'done_reason': 'stop',\n",
       " 'done': True,\n",
       " 'total_duration': 6304239100,\n",
       " 'load_duration': 34276700,\n",
       " 'prompt_eval_count': 38,\n",
       " 'prompt_eval_duration': 310000000,\n",
       " 'eval_count': 47,\n",
       " 'eval_duration': 5957000000}"
      ]
     },
     "execution_count": 9,
     "metadata": {},
     "output_type": "execute_result"
    }
   ],
   "source": [
    "response.response_metadata"
   ]
  },
  {
   "cell_type": "code",
   "execution_count": null,
   "metadata": {},
   "outputs": [],
   "source": []
  },
  {
   "cell_type": "code",
   "execution_count": null,
   "metadata": {},
   "outputs": [],
   "source": []
  }
 ],
 "metadata": {
  "kernelspec": {
   "display_name": "ml",
   "language": "python",
   "name": "python3"
  },
  "language_info": {
   "codemirror_mode": {
    "name": "ipython",
    "version": 3
   },
   "file_extension": ".py",
   "mimetype": "text/x-python",
   "name": "python",
   "nbconvert_exporter": "python",
   "pygments_lexer": "ipython3",
   "version": "3.12.4"
  }
 },
 "nbformat": 4,
 "nbformat_minor": 2
}
